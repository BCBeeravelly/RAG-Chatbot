{
 "cells": [
  {
   "cell_type": "code",
   "execution_count": 8,
   "metadata": {},
   "outputs": [
    {
     "name": "stderr",
     "output_type": "stream",
     "text": [
      "/Users/bharathbeeravelly/Desktop/RAG-System/env/lib/python3.9/site-packages/tqdm/auto.py:21: TqdmWarning: IProgress not found. Please update jupyter and ipywidgets. See https://ipywidgets.readthedocs.io/en/stable/user_install.html\n",
      "  from .autonotebook import tqdm as notebook_tqdm\n"
     ]
    }
   ],
   "source": [
    "from langchain_qdrant import QdrantVectorStore\n",
    "from qdrant_client import QdrantClient\n",
    "from qdrant_client.http.models import Distance, VectorParams\n",
    "from langchain_voyageai import VoyageAIEmbeddings\n",
    "import os"
   ]
  },
  {
   "cell_type": "code",
   "execution_count": 2,
   "metadata": {},
   "outputs": [],
   "source": [
    "%store -r VECTOR_DIR"
   ]
  },
  {
   "cell_type": "code",
   "execution_count": 3,
   "metadata": {},
   "outputs": [],
   "source": [
    "qdrant_path = os.path.join(VECTOR_DIR, \"qdrant\")"
   ]
  },
  {
   "cell_type": "code",
   "execution_count": 5,
   "metadata": {},
   "outputs": [],
   "source": [
    "client = QdrantClient(path=qdrant_path)"
   ]
  },
  {
   "cell_type": "code",
   "execution_count": 6,
   "metadata": {},
   "outputs": [
    {
     "name": "stdout",
     "output_type": "stream",
     "text": [
      "Collections in the Qdrant database:\n",
      "EO-Collection\n"
     ]
    }
   ],
   "source": [
    "# Example: Retrieve information about the collections in the database\n",
    "collections = client.get_collections()\n",
    "print(\"Collections in the Qdrant database:\")\n",
    "for collection in collections.collections:\n",
    "    print(collection.name)"
   ]
  },
  {
   "cell_type": "code",
   "execution_count": 9,
   "metadata": {},
   "outputs": [],
   "source": [
    "voyage_embeddings = VoyageAIEmbeddings(\n",
    "    voyage_api_key=os.getenv(\"VOYAGE_API_KEY\"),\n",
    "    model = 'voyage-3-large'\n",
    ")"
   ]
  },
  {
   "cell_type": "code",
   "execution_count": 11,
   "metadata": {},
   "outputs": [],
   "source": [
    "embedded_query = voyage_embeddings.embed_query(\"hiring freeze\")"
   ]
  },
  {
   "cell_type": "code",
   "execution_count": null,
   "metadata": {},
   "outputs": [
    {
     "name": "stdout",
     "output_type": "stream",
     "text": [
      "Search results:\n",
      "id='94618e7ab10a4ed4a22991c6619d0e67' version=0 score=0.63269805976515 payload={'page_content': 'By the authority vested in me as President by the Constitution and the laws of the United States of America, I hereby order a\\xa0freeze on the hiring of Federal civilian employees, to be applied throughout the executive branch. \\xa0As part of this freeze, no Federal civilian position that is vacant at noon on January 20, 2025, may be filled, and no new position may be created except as otherwise provided for in this memorandum or other applicable law. \\xa0Except as provided below, this freeze applies to all executive departments and agencies regardless of their sources of operational and programmatic funding.', 'metadata': {'Title': 'Hiring Freeze', 'URL': 'https://www.whitehouse.gov/presidential-actions/2025/01/hiring-freeze/', 'DateSigned': 'January 20, 2025', 'doc_id': 'bd709913-4042-419b-91c6-a673a55a7b72'}} vector=None shard_key=None order_value=None\n",
      "id='2e23519ef5b141b5a17b329d9f917414' version=0 score=0.5447431606855908 payload={'page_content': 'This order does not apply to military personnel of the armed forces or to positions related to immigration enforcement, national security, or public safety. \\xa0Moreover, nothing in this memorandum shall adversely impact the provision of Social Security, Medicare, or Veterans’ benefits. \\xa0In addition, the Director of the Office of Personnel Management (OPM) may grant exemptions from this freeze where those exemptions are otherwise necessary.', 'metadata': {'Title': 'Hiring Freeze', 'URL': 'https://www.whitehouse.gov/presidential-actions/2025/01/hiring-freeze/', 'DateSigned': 'January 20, 2025', 'doc_id': 'bd709913-4042-419b-91c6-a673a55a7b72'}} vector=None shard_key=None order_value=None\n",
      "id='dec6ebc7a2f84eb1aa8d517da53d2c71' version=0 score=0.5391181726483532 payload={'page_content': '\\nWithin 90 days of the date of this memorandum, the Director of the Office of Management and Budget (OMB), in consultation with the Director of OPM and the Administrator of the United States DOGE Service (USDS), shall submit a plan to reduce the size of the Federal Government’s workforce through efficiency improvements and attrition. \\xa0Upon issuance of the OMB plan, this memorandum shall expire for all executive departments and agencies, with the exception of the Internal Revenue Service (IRS). \\xa0This memorandum shall remain in effect for the IRS until the Secretary of the Treasury, in consultation with the Director of OMB and the Administrator of USDS, determines that it is in the national interest to lift the freeze.', 'metadata': {'Title': 'Hiring Freeze', 'URL': 'https://www.whitehouse.gov/presidential-actions/2025/01/hiring-freeze/', 'DateSigned': 'January 20, 2025', 'doc_id': 'bd709913-4042-419b-91c6-a673a55a7b72'}} vector=None shard_key=None order_value=None\n",
      "id='7e9df53f4c3d4a698c80085dfd33579c' version=0 score=0.47487449548759364 payload={'page_content': '(b)\\xa0 The Secretary of Homeland Security shall suspend decisions on applications for refugee status, until a finding is made in accordance with section 4 of this order.', 'metadata': {'Title': 'REALIGNING THE UNITED STATES REFUGEE ADMISSIONS PROGRAM', 'URL': 'https://www.whitehouse.gov/presidential-actions/2025/01/realigning-the-united-states-refugee-admissions-program/', 'DateSigned': 'January 20, 2025', 'doc_id': 'af7b13c0-a18c-4ecb-87f7-541538127ffb'}} vector=None shard_key=None order_value=None\n",
      "id='e0efc4add8834da2bf22c2bb89397c58' version=0 score=0.4726246749001874 payload={'page_content': '(e) \\xa0The U.S. International Climate Finance Plan is revoked and rescinded immediately. \\xa0The Director of the Office of Management and Budget shall, within 10 days of this order, issue guidance for the rescission of all frozen funds.', 'metadata': {'Title': 'PUTTING AMERICA FIRST IN INTERNATIONAL ENVIRONMENTAL AGREEMENTS', 'URL': 'https://www.whitehouse.gov/presidential-actions/2025/01/putting-america-first-in-international-environmental-agreements/', 'DateSigned': 'January 20, 2025', 'doc_id': '76114224-62b5-4add-962b-02ba14f25b64'}} vector=None shard_key=None order_value=None\n"
     ]
    },
    {
     "name": "stderr",
     "output_type": "stream",
     "text": [
      "/var/folders/vh/y8k1dgkj76s01krzn8qtn3nw0000gn/T/ipykernel_26186/3017846112.py:1: DeprecationWarning: `search` method is deprecated and will be removed in the future. Use `query_points` instead.\n",
      "  search_results = client.search(collection_name=\"EO-Collection\", query_vector=embedded_query, limit=5)\n"
     ]
    }
   ],
   "source": [
    "search_results = client.search(collection_name=\"EO-Collection\", query_vector=embedded_query, limit=5)\n",
    "print(\"Search results:\")\n",
    "for result in search_results:\n",
    "    print(result)"
   ]
  },
  {
   "cell_type": "code",
   "execution_count": null,
   "metadata": {},
   "outputs": [],
   "source": []
  }
 ],
 "metadata": {
  "kernelspec": {
   "display_name": "env",
   "language": "python",
   "name": "python3"
  },
  "language_info": {
   "codemirror_mode": {
    "name": "ipython",
    "version": 3
   },
   "file_extension": ".py",
   "mimetype": "text/x-python",
   "name": "python",
   "nbconvert_exporter": "python",
   "pygments_lexer": "ipython3",
   "version": "3.9.7"
  }
 },
 "nbformat": 4,
 "nbformat_minor": 2
}
