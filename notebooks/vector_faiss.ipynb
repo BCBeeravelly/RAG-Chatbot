{
 "cells": [
  {
   "cell_type": "markdown",
   "metadata": {},
   "source": [
    "### Import packages"
   ]
  },
  {
   "cell_type": "code",
   "execution_count": 18,
   "metadata": {},
   "outputs": [
    {
     "data": {
      "text/plain": [
       "True"
      ]
     },
     "execution_count": 18,
     "metadata": {},
     "output_type": "execute_result"
    }
   ],
   "source": [
    "import time\n",
    "from tqdm import tqdm\n",
    "import faiss\n",
    "from langchain.storage import InMemoryStore\n",
    "from langchain_community.vectorstores import FAISS\n",
    "from langchain_voyageai import VoyageAIEmbeddings\n",
    "from langchain_huggingface import HuggingFaceEmbeddings\n",
    "from transformers import AutoModel, AutoTokenizer\n",
    "import torch\n",
    "from langchain_community.document_loaders.json_loader import JSONLoader\n",
    "from langchain_community.docstore.in_memory import InMemoryDocstore\n",
    "\n",
    "from langchain_text_splitters import RecursiveCharacterTextSplitter\n",
    "from langchain.retrievers import ParentDocumentRetriever\n",
    "from langchain.storage import InMemoryStore\n",
    "from uuid import uuid4\n",
    "\n",
    "from langchain_core.documents import Document\n",
    "import os\n",
    "from dotenv import load_dotenv\n",
    "from typing import Dict\n",
    "\n",
    "# Load environment variables\n",
    "load_dotenv()"
   ]
  },
  {
   "cell_type": "code",
   "execution_count": 19,
   "metadata": {},
   "outputs": [
    {
     "name": "stdout",
     "output_type": "stream",
     "text": [
      "0.3.33\n"
     ]
    }
   ],
   "source": [
    "import langchain_core\n",
    "\n",
    "print(langchain_core.__version__)"
   ]
  },
  {
   "cell_type": "markdown",
   "metadata": {},
   "source": [
    "### Set the directories"
   ]
  },
  {
   "cell_type": "code",
   "execution_count": 20,
   "metadata": {},
   "outputs": [
    {
     "name": "stdout",
     "output_type": "stream",
     "text": [
      "FAISS_DIR: /Users/bharathbeeravelly/Desktop/RAG-System/data/vector_stores/faiss\n",
      "Stored 'PROJECT_DIR' (str)\n",
      "Stored 'DATA_DIR' (str)\n",
      "Stored 'VECTOR_DIR' (str)\n",
      "Stored 'FAISS_DIR' (str)\n"
     ]
    }
   ],
   "source": [
    "# Set the constants\n",
    "CURRENT_DIR = os.getcwd()\n",
    "PROJECT_DIR = os.path.dirname(CURRENT_DIR)\n",
    "DATA_DIR = os.path.join(PROJECT_DIR, 'data/raw')\n",
    "VECTOR_DIR = os.path.join(PROJECT_DIR, 'data/vector_stores')\n",
    "FAISS_DIR = os.path.join(VECTOR_DIR, 'faiss')\n",
    "\n",
    "print(f'FAISS_DIR: {FAISS_DIR}')\n",
    "\n",
    "%store PROJECT_DIR\n",
    "%store DATA_DIR\n",
    "%store VECTOR_DIR\n",
    "%store FAISS_DIR"
   ]
  },
  {
   "cell_type": "code",
   "execution_count": 42,
   "metadata": {},
   "outputs": [
    {
     "name": "stdout",
     "output_type": "stream",
     "text": [
      "Total Documents Extracted: 79\n",
      "{'Title': 'Additional Measures to Combat Anti-Semitism', 'URL': 'https://www.whitehouse.gov/presidential-actions/2025/01/additional-measures-to-combat-anti-semitism/', 'DateSigned': 'January 29, 2025'}\n"
     ]
    }
   ],
   "source": [
    "def metadata_extractor(record: Dict, metadata: Dict) -> Dict:\n",
    "    \"\"\"Extracts metadata fields from each ExecutiveOrder entry.\"\"\"\n",
    "    return {\n",
    "        \"Title\": record.get(\"Title\", \"Unknown\"),\n",
    "        \"URL\": record.get(\"URL\", \"\"),\n",
    "        \"DateSigned\": record.get(\"DateSigned\", \"\"),\n",
    "    }\n",
    "\n",
    "def json_loader(json_path):\n",
    "    loader = JSONLoader(\n",
    "        file_path=json_path,\n",
    "        jq_schema='.ExecutiveOrder[]',  # Extracts individual EO entries\n",
    "        content_key='Description',  # Extracts the main text content\n",
    "        metadata_func=metadata_extractor  # Custom function for metadata extraction\n",
    "    )\n",
    "    return loader.load()  # Return extracted documents\n",
    "\n",
    "json_documents = []  # List to store all extracted documents\n",
    "\n",
    "for item in os.listdir(DATA_DIR):\n",
    "    item_path = os.path.join(DATA_DIR, item)\n",
    "    docs = json_loader(item_path)  # Extract documents from each JSON file\n",
    "    json_documents.extend(docs)  # Append extracted documents to json_documents\n",
    "\n",
    "# Now json_documents contains a list of all extracted documents\n",
    "print(f\"Total Documents Extracted: {len(json_documents)}\")\n",
    "print(json_documents[2].metadata)"
   ]
  },
  {
   "cell_type": "code",
   "execution_count": 22,
   "metadata": {},
   "outputs": [
    {
     "name": "stdout",
     "output_type": "stream",
     "text": [
      "Stored 'json_documents' (list)\n"
     ]
    }
   ],
   "source": [
    "%store json_documents"
   ]
  },
  {
   "cell_type": "markdown",
   "metadata": {},
   "source": [
    "## Voyage Embeddings"
   ]
  },
  {
   "cell_type": "markdown",
   "metadata": {},
   "source": [
    "### Create Embeddings (`voyage-3-large`)"
   ]
  },
  {
   "cell_type": "code",
   "execution_count": 23,
   "metadata": {},
   "outputs": [],
   "source": [
    "voyage_embeddings = VoyageAIEmbeddings(\n",
    "    voyage_api_key = os.getenv(\"VOYAGE_API_KEY\"),\n",
    "    model = 'voyage-3-large'\n",
    ")"
   ]
  },
  {
   "cell_type": "code",
   "execution_count": 24,
   "metadata": {},
   "outputs": [],
   "source": [
    "# Create a FAISS index with L2 (Euclidean) distance metric\n",
    "index = faiss.IndexFlatL2(len(voyage_embeddings.embed_query(\"hello world\"))) "
   ]
  },
  {
   "cell_type": "code",
   "execution_count": 25,
   "metadata": {},
   "outputs": [],
   "source": [
    "start_time = time.time()\n",
    "\n",
    "faiss_voyage = FAISS(\n",
    "    embedding_function=voyage_embeddings,\n",
    "    index=index,\n",
    "    docstore=InMemoryDocstore(),\n",
    "    index_to_docstore_id={},\n",
    ")\n",
    "\n",
    "end_time = time.time()\n"
   ]
  },
  {
   "cell_type": "code",
   "execution_count": 26,
   "metadata": {},
   "outputs": [
    {
     "name": "stdout",
     "output_type": "stream",
     "text": [
      "Elapsed time for FAISS and Voyage Embeddings Initialization: 7.486343383789062e-05 seconds\n"
     ]
    }
   ],
   "source": [
    "elapsed_time_faiss_voyage = end_time - start_time\n",
    "print(f\"Elapsed time for FAISS and Voyage Embeddings Initialization: {elapsed_time_faiss_voyage} seconds\")"
   ]
  },
  {
   "cell_type": "code",
   "execution_count": 27,
   "metadata": {},
   "outputs": [],
   "source": [
    "# This text splitter is used to create the child documents\n",
    "child_splitter = RecursiveCharacterTextSplitter(chunk_size=600, separators=['\\n'])\n",
    "\n",
    "# The vectorstore to use to index the child chunks\n",
    "store = InMemoryStore()"
   ]
  },
  {
   "cell_type": "code",
   "execution_count": 28,
   "metadata": {},
   "outputs": [
    {
     "name": "stdout",
     "output_type": "stream",
     "text": [
      "Elapsed time for ParentDocumentRetriever Initialization: 0.002836942672729492 seconds\n"
     ]
    }
   ],
   "source": [
    "start_time = time.time()\n",
    "\n",
    "retriever_faiss_voyage = ParentDocumentRetriever(\n",
    "    vectorstore=faiss_voyage,\n",
    "    docstore=store,\n",
    "    child_splitter=child_splitter\n",
    ")\n",
    "\n",
    "end_time = time.time()\n",
    "\n",
    "elapsed_parent_retriever = end_time - start_time\n",
    "print(f\"Elapsed time for ParentDocumentRetriever Initialization: {elapsed_parent_retriever} seconds\")"
   ]
  },
  {
   "cell_type": "code",
   "execution_count": 29,
   "metadata": {},
   "outputs": [
    {
     "name": "stdout",
     "output_type": "stream",
     "text": [
      "Elapsed time for FAISS and Voyage Embeddings Indexing: 124.06875395774841 seconds\n"
     ]
    }
   ],
   "source": [
    "start_time = time.time()\n",
    "retriever_faiss_voyage.add_documents(json_documents, ids=None)\n",
    "end_time = time.time()\n",
    "\n",
    "elapsed_faiss_voyage_indexing = end_time - start_time\n",
    "\n",
    "print(f\"Elapsed time for FAISS and Voyage Embeddings Indexing: {elapsed_faiss_voyage_indexing} seconds\")"
   ]
  },
  {
   "cell_type": "code",
   "execution_count": 30,
   "metadata": {},
   "outputs": [
    {
     "name": "stdout",
     "output_type": "stream",
     "text": [
      "Stored 'elapsed_faiss_voyage_indexing' (float)\n"
     ]
    }
   ],
   "source": [
    "%store elapsed_faiss_voyage_indexing"
   ]
  },
  {
   "cell_type": "code",
   "execution_count": 31,
   "metadata": {},
   "outputs": [
    {
     "name": "stdout",
     "output_type": "stream",
     "text": [
      "* [SIM=0.807298] [{'Title': 'Hiring Freeze', 'URL': 'https://www.whitehouse.gov/presidential-actions/2025/01/hiring-freeze/', 'DateSigned': 'January 20, 2025', 'doc_id': 'b5efd982-e4ed-4d29-9eac-206fe6784495'}]\n",
      "* [SIM=0.973834] [{'Title': 'Hiring Freeze', 'URL': 'https://www.whitehouse.gov/presidential-actions/2025/01/hiring-freeze/', 'DateSigned': 'January 20, 2025', 'doc_id': 'b5efd982-e4ed-4d29-9eac-206fe6784495'}]\n",
      "* [SIM=1.048505] [{'Title': 'Hiring Freeze', 'URL': 'https://www.whitehouse.gov/presidential-actions/2025/01/hiring-freeze/', 'DateSigned': 'January 20, 2025', 'doc_id': 'b5efd982-e4ed-4d29-9eac-206fe6784495'}]\n",
      "* [SIM=1.049223] [{'Title': 'Hiring Freeze', 'URL': 'https://www.whitehouse.gov/presidential-actions/2025/01/hiring-freeze/', 'DateSigned': 'January 20, 2025', 'doc_id': 'b5efd982-e4ed-4d29-9eac-206fe6784495'}]\n",
      "* [SIM=1.117409] [{'Title': 'REFORMING THE FEDERAL HIRING PROCESS AND RESTORING MERIT TO GOVERNMENT SERVICE', 'URL': 'https://www.whitehouse.gov/presidential-actions/2025/01/reforming-the-federal-hiring-process-and-restoring-merit-to-government-service/', 'DateSigned': 'January 20, 2025', 'doc_id': 'cd3d1d4e-00e2-462e-a142-60c4763da78b'}]\n"
     ]
    }
   ],
   "source": [
    "sub_docs = faiss_voyage.similarity_search_with_score(\n",
    "    \"Is there a hiring freeze?\",\n",
    "    k=5\n",
    ")\n",
    "\n",
    "# Similarity Score results\n",
    "for res, score in sub_docs:\n",
    "    print(f\"* [SIM={score:3f}] [{res.metadata}]\")\n"
   ]
  },
  {
   "cell_type": "code",
   "execution_count": 32,
   "metadata": {},
   "outputs": [
    {
     "data": {
      "text/plain": [
       "[Document(metadata={'Title': 'Hiring Freeze', 'URL': 'https://www.whitehouse.gov/presidential-actions/2025/01/hiring-freeze/', 'DateSigned': 'January 20, 2025'}, page_content='By the authority vested in me as President by the Constitution and the laws of the United States of America, I hereby order a\\xa0freeze on the hiring of Federal civilian employees, to be applied throughout the executive branch. \\xa0As part of this freeze, no Federal civilian position that is vacant at noon on January 20, 2025, may be filled, and no new position may be created except as otherwise provided for in this memorandum or other applicable law. \\xa0Except as provided below, this freeze applies to all executive departments and agencies regardless of their sources of operational and programmatic funding.\\nThis order does not apply to military personnel of the armed forces or to positions related to immigration enforcement, national security, or public safety. \\xa0Moreover, nothing in this memorandum shall adversely impact the provision of Social Security, Medicare, or Veterans’ benefits. \\xa0In addition, the Director of the Office of Personnel Management (OPM) may grant exemptions from this freeze where those exemptions are otherwise necessary.\\nWithin 90 days of the date of this memorandum, the Director of the Office of Management and Budget (OMB), in consultation with the Director of OPM and the Administrator of the United States DOGE Service (USDS), shall submit a plan to reduce the size of the Federal Government’s workforce through efficiency improvements and attrition. \\xa0Upon issuance of the OMB plan, this memorandum shall expire for all executive departments and agencies, with the exception of the Internal Revenue Service (IRS). \\xa0This memorandum shall remain in effect for the IRS until the Secretary of the Treasury, in consultation with the Director of OMB and the Administrator of USDS, determines that it is in the national interest to lift the freeze.\\nContracting outside the Federal Government to circumvent the intent of this memorandum is prohibited.\\nIn carrying out this memorandum, the heads of executive departments and agencies shall seek efficient use of existing personnel and funds to improve public services and the delivery of these services. \\xa0Accordingly, this memorandum does not prohibit making reallocations to meet the highest priority needs, maintain essential services, and protect national security, homeland security, and public safety.\\nThis memorandum does not limit the nomination and appointment of officials to positions requiring Presidential appointment or Senate confirmation, the appointment of officials to non-career positions in the Senior Executive Service or to Schedule A or C positions in the Excepted Service, the appointment of officials through temporary organization hiring authority pursuant to section 3161 of title 5, United States Code, or the appointment of any other non-career employees or officials if approved by agency leadership appointed by the President. \\xa0Moreover, it does not limit the hiring of personnel where such a limit would conflict with applicable law.\\nThis memorandum does not abrogate any collective bargaining agreement in effect on the date of this memorandum.')]"
      ]
     },
     "execution_count": 32,
     "metadata": {},
     "output_type": "execute_result"
    }
   ],
   "source": [
    "retriever_faiss_voyage.invoke(\"Is there a hiring freeze?\")"
   ]
  },
  {
   "cell_type": "code",
   "execution_count": 33,
   "metadata": {},
   "outputs": [],
   "source": [
    "faiss_voyage.save_local(FAISS_DIR)"
   ]
  },
  {
   "cell_type": "code",
   "execution_count": 34,
   "metadata": {},
   "outputs": [
    {
     "name": "stdout",
     "output_type": "stream",
     "text": [
      "Package                                  Version\n",
      "---------------------------------------- ------------\n",
      "accelerate                               0.34.2\n",
      "adal                                     1.2.7\n",
      "aiobotocore                              2.17.0\n",
      "aiohttp                                  3.9.5\n",
      "aioitertools                             0.12.0\n",
      "aiolimiter                               1.2.1\n",
      "aiosignal                                1.3.1\n",
      "alembic                                  1.14.0\n",
      "altair                                   5.3.0\n",
      "annotated-types                          0.6.0\n",
      "antlr4-python3-runtime                   4.9.3\n",
      "anyio                                    4.3.0\n",
      "appnope                                  0.1.4\n",
      "argcomplete                              3.5.0\n",
      "asgiref                                  3.8.1\n",
      "asttokens                                2.4.1\n",
      "async-timeout                            4.0.3\n",
      "attrs                                    23.2.0\n",
      "azure-common                             1.1.28\n",
      "azure-core                               1.30.2\n",
      "azure-graphrbac                          0.61.1\n",
      "azure-mgmt-authorization                 4.0.0\n",
      "azure-mgmt-containerregistry             10.3.0\n",
      "azure-mgmt-core                          1.4.0\n",
      "azure-mgmt-keyvault                      10.3.1\n",
      "azure-mgmt-network                       26.0.0\n",
      "azure-mgmt-resource                      23.1.1\n",
      "azure-mgmt-storage                       21.2.1\n",
      "azureml-core                             1.57.0\n",
      "babel                                    2.16.0\n",
      "backoff                                  2.2.1\n",
      "backports.tempfile                       1.0\n",
      "backports.weakref                        1.0.post1\n",
      "bcrypt                                   4.1.2\n",
      "beautifulsoup4                           4.12.3\n",
      "bertopic                                 0.16.3\n",
      "bitsandbytes                             0.42.0\n",
      "blinker                                  1.8.0\n",
      "boto3                                    1.35.96\n",
      "botocore                                 1.35.93\n",
      "build                                    1.2.1\n",
      "cachetools                               5.3.3\n",
      "catboost                                 1.2.7\n",
      "certifi                                  2024.2.2\n",
      "cffi                                     1.17.0\n",
      "charset-normalizer                       3.3.2\n",
      "chroma-hnswlib                           0.7.3\n",
      "chromadb                                 0.4.24\n",
      "click                                    8.1.7\n",
      "cloudpickle                              2.2.1\n",
      "coloredlogs                              15.0.1\n",
      "comm                                     0.2.2\n",
      "contextlib2                              21.6.0\n",
      "contourpy                                1.2.1\n",
      "cryptography                             43.0.0\n",
      "cssselect                                1.2.0\n",
      "ctransformers                            0.2.27\n",
      "cycler                                   0.12.1\n",
      "d                                        0.2.2\n",
      "databricks-sdk                           0.40.0\n",
      "dataclasses-json                         0.6.4\n",
      "datasets                                 3.0.0\n",
      "debugpy                                  1.8.5\n",
      "decorator                                5.1.1\n",
      "Deprecated                               1.2.14\n",
      "dill                                     0.3.9\n",
      "diskcache                                5.6.3\n",
      "distro                                   1.9.0\n",
      "docker                                   7.1.0\n",
      "docxcompose                              1.4.0\n",
      "docxtpl                                  0.18.0\n",
      "eval_type_backport                       0.2.0\n",
      "exceptiongroup                           1.2.1\n",
      "executing                                2.0.1\n",
      "fastapi                                  0.110.2\n",
      "filelock                                 3.13.4\n",
      "fire                                     0.6.0\n",
      "Flask                                    3.0.3\n",
      "flatbuffers                              24.3.25\n",
      "fonttools                                4.53.1\n",
      "frozenlist                               1.4.1\n",
      "fsspec                                   2024.12.0\n",
      "gensim                                   4.3.3\n",
      "gitdb                                    4.0.11\n",
      "GitPython                                3.1.43\n",
      "google-auth                              2.29.0\n",
      "google-pasta                             0.2.0\n",
      "googleapis-common-protos                 1.63.0\n",
      "graphene                                 3.4.3\n",
      "graphql-core                             3.2.5\n",
      "graphql-relay                            3.2.0\n",
      "graphviz                                 0.20.3\n",
      "grpcio                                   1.70.0\n",
      "grpcio-tools                             1.70.0\n",
      "gunicorn                                 23.0.0\n",
      "h11                                      0.14.0\n",
      "h2                                       4.2.0\n",
      "hdbscan                                  0.8.38.post1\n",
      "hpack                                    4.1.0\n",
      "httpcore                                 1.0.5\n",
      "httptools                                0.6.1\n",
      "httpx                                    0.27.0\n",
      "huggingface-hub                          0.24.7\n",
      "humanfriendly                            10.0\n",
      "hyperframe                               6.1.0\n",
      "idna                                     3.7\n",
      "importlib-metadata                       6.11.0\n",
      "importlib_resources                      6.4.0\n",
      "iniconfig                                2.0.0\n",
      "ipykernel                                6.29.5\n",
      "ipython                                  8.18.1\n",
      "isodate                                  0.6.1\n",
      "itsdangerous                             2.2.0\n",
      "jedi                                     0.19.1\n",
      "jeepney                                  0.8.0\n",
      "Jinja2                                   3.1.3\n",
      "jmespath                                 1.0.1\n",
      "joblib                                   1.4.2\n",
      "jq                                       1.8.0\n",
      "jsonpatch                                1.33\n",
      "jsonpath-python                          1.0.6\n",
      "jsonpickle                               3.2.2\n",
      "jsonpointer                              2.4\n",
      "jsonschema                               4.21.1\n",
      "jsonschema-specifications                2023.12.1\n",
      "jupyter_client                           8.6.2\n",
      "jupyter_core                             5.7.2\n",
      "kiwisolver                               1.4.5\n",
      "knack                                    0.11.0\n",
      "kubernetes                               29.0.0\n",
      "langchain                                0.1.16\n",
      "langchain-chroma                         0.1.0\n",
      "langchain-community                      0.0.34\n",
      "langchain-core                           0.3.33\n",
      "langchain-experimental                   0.0.57\n",
      "langchain-huggingface                    0.1.2\n",
      "langchain-openai                         0.1.4\n",
      "langchain-qdrant                         0.2.0\n",
      "langchain-text-splitters                 0.0.1\n",
      "langchain-voyageai                       0.1.4\n",
      "langsmith                                0.1.147\n",
      "lightgbm                                 4.5.0\n",
      "llama_cpp_python                         0.2.65\n",
      "llamaapi                                 0.1.36\n",
      "llmsherpa                                0.1.4\n",
      "llvmlite                                 0.43.0\n",
      "lxml                                     5.2.1\n",
      "Mako                                     1.3.8\n",
      "Markdown                                 3.6\n",
      "markdown-it-py                           3.0.0\n",
      "MarkupSafe                               2.1.5\n",
      "marshmallow                              3.21.1\n",
      "matplotlib                               3.9.2\n",
      "matplotlib-inline                        0.1.7\n",
      "mdurl                                    0.1.2\n",
      "mistralai                                1.1.0\n",
      "mlflow                                   2.19.0\n",
      "mlflow-skinny                            2.19.0\n",
      "mmh3                                     4.1.0\n",
      "mock                                     4.0.3\n",
      "monotonic                                1.6\n",
      "mpmath                                   1.3.0\n",
      "msal                                     1.30.0\n",
      "msal-extensions                          1.2.0\n",
      "msrest                                   0.7.1\n",
      "msrestazure                              0.6.4.post1\n",
      "multidict                                6.0.5\n",
      "multiprocess                             0.70.17\n",
      "mypy-extensions                          1.0.0\n",
      "ndg-httpsclient                          0.5.1\n",
      "nest-asyncio                             1.6.0\n",
      "networkx                                 3.2.1\n",
      "nltk                                     3.9.1\n",
      "numba                                    0.60.0\n",
      "numpy                                    1.26.4\n",
      "oauthlib                                 3.2.2\n",
      "omegaconf                                2.2.3\n",
      "onnxruntime                              1.17.3\n",
      "openai                                   1.23.6\n",
      "opencv-python-headless                   4.10.0.84\n",
      "opentelemetry-api                        1.24.0\n",
      "opentelemetry-exporter-otlp-proto-common 1.24.0\n",
      "opentelemetry-exporter-otlp-proto-grpc   1.24.0\n",
      "opentelemetry-instrumentation            0.45b0\n",
      "opentelemetry-instrumentation-asgi       0.45b0\n",
      "opentelemetry-instrumentation-fastapi    0.45b0\n",
      "opentelemetry-proto                      1.24.0\n",
      "opentelemetry-sdk                        1.24.0\n",
      "opentelemetry-semantic-conventions       0.45b0\n",
      "opentelemetry-util-http                  0.45b0\n",
      "orjson                                   3.10.1\n",
      "overrides                                7.7.0\n",
      "packaging                                23.2\n",
      "pandas                                   2.2.2\n",
      "paramiko                                 3.4.1\n",
      "parso                                    0.8.4\n",
      "pathos                                   0.3.3\n",
      "pathspec                                 0.12.1\n",
      "patsy                                    1.0.1\n",
      "pdf2docx                                 0.5.8\n",
      "pdfminer.six                             20231228\n",
      "pdfplumber                               0.11.4\n",
      "pexpect                                  4.9.0\n",
      "pickleshare                              0.7.5\n",
      "pillow                                   10.3.0\n",
      "pip                                      25.0\n",
      "pkginfo                                  1.11.1\n",
      "platformdirs                             4.2.2\n",
      "plotly                                   5.24.1\n",
      "pluggy                                   1.5.0\n",
      "portalocker                              2.10.1\n",
      "posthog                                  3.5.0\n",
      "pox                                      0.3.5\n",
      "ppft                                     1.7.6.9\n",
      "prompt_toolkit                           3.0.47\n",
      "protobuf                                 5.29.3\n",
      "psutil                                   6.0.0\n",
      "ptyprocess                               0.7.0\n",
      "pulsar-client                            3.5.0\n",
      "pure_eval                                0.2.3\n",
      "py-cpuinfo                               9.0.0\n",
      "py4j                                     0.10.9.7\n",
      "pyarrow                                  16.0.0\n",
      "pyasn1                                   0.6.0\n",
      "pyasn1_modules                           0.4.0\n",
      "pycparser                                2.22\n",
      "pydantic                                 2.9.2\n",
      "pydantic_core                            2.23.4\n",
      "pydeck                                   0.9.0b1\n",
      "Pygments                                 2.17.2\n",
      "PyJWT                                    2.9.0\n",
      "PyMuPDF                                  1.24.9\n",
      "PyMuPDFb                                 1.24.9\n",
      "PyNaCl                                   1.5.0\n",
      "pynndescent                              0.5.13\n",
      "pyOpenSSL                                24.2.1\n",
      "pyparsing                                3.1.2\n",
      "PyPDF2                                   3.0.1\n",
      "pypdfium2                                4.30.0\n",
      "PyPika                                   0.48.9\n",
      "pyproject_hooks                          1.0.0\n",
      "pyquery                                  2.0.0\n",
      "PySocks                                  1.7.1\n",
      "pyspark                                  3.5.4\n",
      "pytest                                   8.3.1\n",
      "python-dateutil                          2.8.2\n",
      "python-docx                              1.1.2\n",
      "python-dotenv                            1.0.1\n",
      "pytz                                     2024.1\n",
      "PyYAML                                   6.0.1\n",
      "pyzmq                                    26.2.0\n",
      "qdrant-client                            1.13.2\n",
      "referencing                              0.35.0\n",
      "regex                                    2024.4.28\n",
      "requests                                 2.32.3\n",
      "requests-oauthlib                        2.0.0\n",
      "requests-toolbelt                        1.0.0\n",
      "rich                                     13.7.1\n",
      "rpds-py                                  0.18.0\n",
      "rsa                                      4.9\n",
      "s3fs                                     2024.12.0\n",
      "s3transfer                               0.10.4\n",
      "safetensors                              0.4.5\n",
      "sagemaker                                2.237.3\n",
      "sagemaker-core                           1.0.17\n",
      "sagemaker-mlflow                         0.1.0\n",
      "schema                                   0.7.7\n",
      "scikit-learn                             1.5.1\n",
      "scipy                                    1.13.1\n",
      "seaborn                                  0.13.2\n",
      "SecretStorage                            3.3.3\n",
      "sentence-transformers                    3.1.0\n",
      "serpapi                                  0.1.5\n",
      "setuptools                               58.1.0\n",
      "shap                                     0.46.0\n",
      "shellingham                              1.5.4\n",
      "six                                      1.16.0\n",
      "slicer                                   0.0.8\n",
      "smart-open                               7.0.4\n",
      "smdebug-rulesconfig                      1.0.1\n",
      "smmap                                    5.0.1\n",
      "sniffio                                  1.3.1\n",
      "soupsieve                                2.6\n",
      "SQLAlchemy                               2.0.29\n",
      "sqlparse                                 0.5.3\n",
      "stack-data                               0.6.3\n",
      "starlette                                0.37.2\n",
      "statsmodels                              0.14.4\n",
      "streamlit                                1.33.0\n",
      "streamlit-chat                           0.1.1\n",
      "sympy                                    1.12\n",
      "tabulate                                 0.9.0\n",
      "tblib                                    3.0.0\n",
      "tenacity                                 8.2.3\n",
      "termcolor                                2.4.0\n",
      "threadpoolctl                            3.5.0\n",
      "tiktoken                                 0.6.0\n",
      "tokenizers                               0.19.1\n",
      "toml                                     0.10.2\n",
      "tomli                                    2.0.1\n",
      "toolz                                    0.12.1\n",
      "torch                                    2.4.1\n",
      "tornado                                  6.4\n",
      "tqdm                                     4.66.5\n",
      "traitlets                                5.14.3\n",
      "transformers                             4.44.2\n",
      "typer                                    0.12.3\n",
      "typing_extensions                        4.11.0\n",
      "typing-inspect                           0.9.0\n",
      "tzdata                                   2024.1\n",
      "umap-learn                               0.5.6\n",
      "urllib3                                  1.26.20\n",
      "uvicorn                                  0.29.0\n",
      "uvloop                                   0.19.0\n",
      "voyageai                                 0.3.2\n",
      "watchfiles                               0.21.0\n",
      "wcwidth                                  0.2.13\n",
      "websocket-client                         1.8.0\n",
      "websockets                               12.0\n",
      "Werkzeug                                 3.0.3\n",
      "wrapt                                    1.16.0\n",
      "xgboost                                  2.1.3\n",
      "xxhash                                   3.5.0\n",
      "yarl                                     1.9.4\n",
      "zipp                                     3.18.1\n",
      "zstandard                                0.23.0\n"
     ]
    }
   ],
   "source": [
    "!pip list"
   ]
  },
  {
   "cell_type": "code",
   "execution_count": 36,
   "metadata": {},
   "outputs": [],
   "source": [
    "!pip freeze > ../requirements.txt"
   ]
  },
  {
   "cell_type": "code",
   "execution_count": 37,
   "metadata": {},
   "outputs": [
    {
     "name": "stdout",
     "output_type": "stream",
     "text": [
      "pip 25.0 from /Users/bharathbeeravelly/.pyenv/versions/3.9.19/lib/python3.9/site-packages/pip (python 3.9)\n"
     ]
    }
   ],
   "source": [
    "!pip --version"
   ]
  },
  {
   "cell_type": "code",
   "execution_count": 40,
   "metadata": {},
   "outputs": [
    {
     "name": "stdout",
     "output_type": "stream",
     "text": [
      "Name: langchain-voyageai\n",
      "Version: 0.1.4\n",
      "Summary: An integration package connecting VoyageAI and LangChain\n",
      "Home-page: https://github.com/langchain-ai/langchain\n",
      "Author: \n",
      "Author-email: \n",
      "License: MIT\n",
      "Location: /Users/bharathbeeravelly/.pyenv/versions/3.9.19/lib/python3.9/site-packages\n",
      "Requires: langchain-core, pydantic, voyageai\n",
      "Required-by: \n"
     ]
    }
   ],
   "source": [
    "!pip show langchain-voyageai"
   ]
  },
  {
   "cell_type": "code",
   "execution_count": null,
   "metadata": {},
   "outputs": [],
   "source": []
  }
 ],
 "metadata": {
  "kernelspec": {
   "display_name": "env",
   "language": "python",
   "name": "python3"
  },
  "language_info": {
   "codemirror_mode": {
    "name": "ipython",
    "version": 3
   },
   "file_extension": ".py",
   "mimetype": "text/x-python",
   "name": "python",
   "nbconvert_exporter": "python",
   "pygments_lexer": "ipython3",
   "version": "3.9.7"
  }
 },
 "nbformat": 4,
 "nbformat_minor": 2
}
