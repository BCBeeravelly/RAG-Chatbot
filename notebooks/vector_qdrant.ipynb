{
 "cells": [
  {
   "cell_type": "markdown",
   "metadata": {},
   "source": [
    "## Import packages"
   ]
  },
  {
   "cell_type": "code",
   "execution_count": 1,
   "metadata": {},
   "outputs": [
    {
     "name": "stderr",
     "output_type": "stream",
     "text": [
      "/Users/bharathbeeravelly/Desktop/RAG-System/env/lib/python3.9/site-packages/tqdm/auto.py:21: TqdmWarning: IProgress not found. Please update jupyter and ipywidgets. See https://ipywidgets.readthedocs.io/en/stable/user_install.html\n",
      "  from .autonotebook import tqdm as notebook_tqdm\n"
     ]
    },
    {
     "data": {
      "text/plain": [
       "True"
      ]
     },
     "execution_count": 1,
     "metadata": {},
     "output_type": "execute_result"
    }
   ],
   "source": [
    "import time\n",
    "from tqdm import tqdm\n",
    "import os\n",
    "from dotenv import load_dotenv\n",
    "from typing import Dict\n",
    "\n",
    "from langchain.storage import InMemoryStore\n",
    "from langchain_voyageai import VoyageAIEmbeddings\n",
    "\n",
    "from langchain_qdrant import QdrantVectorStore\n",
    "from qdrant_client import QdrantClient\n",
    "from qdrant_client.http.models import Distance, VectorParams\n",
    "\n",
    "from langchain_community.document_loaders.json_loader import JSONLoader\n",
    "from langchain_text_splitters import RecursiveCharacterTextSplitter\n",
    "from langchain.retrievers import ParentDocumentRetriever\n",
    "from langchain.storage import InMemoryStore\n",
    "\n",
    "from langchain_core.documents import Document\n",
    "\n",
    "\n",
    "# Load environment variables\n",
    "load_dotenv()"
   ]
  },
  {
   "cell_type": "code",
   "execution_count": 2,
   "metadata": {},
   "outputs": [
    {
     "data": {
      "text/plain": [
       "True"
      ]
     },
     "execution_count": 2,
     "metadata": {},
     "output_type": "execute_result"
    }
   ],
   "source": [
    "load_dotenv()"
   ]
  },
  {
   "cell_type": "markdown",
   "metadata": {},
   "source": [
    "## Retrieve the directories and documents"
   ]
  },
  {
   "cell_type": "code",
   "execution_count": 3,
   "metadata": {},
   "outputs": [],
   "source": [
    "%store -r DATA_DIR\n",
    "%store -r PROJECT_DIR\n",
    "%store -r VECTOR_DIR\n"
   ]
  },
  {
   "cell_type": "code",
   "execution_count": 4,
   "metadata": {},
   "outputs": [],
   "source": [
    "%store -r json_documents"
   ]
  },
  {
   "cell_type": "markdown",
   "metadata": {},
   "source": [
    "## Create Embeddings (`voyage-3-large`)\n"
   ]
  },
  {
   "cell_type": "code",
   "execution_count": 5,
   "metadata": {},
   "outputs": [],
   "source": [
    "voyage_embeddings = VoyageAIEmbeddings(\n",
    "    voyage_api_key=os.getenv(\"VOYAGE_API_KEY\"),\n",
    "    model = 'voyage-3-large'\n",
    ")"
   ]
  },
  {
   "cell_type": "markdown",
   "metadata": {},
   "source": [
    "## On-disk storage of Qdrant Vector Store"
   ]
  },
  {
   "cell_type": "code",
   "execution_count": 6,
   "metadata": {},
   "outputs": [],
   "source": [
    "QDRANT_DIR = os.path.join(VECTOR_DIR, \"qdrant\")\n",
    "client = QdrantClient(path=QDRANT_DIR)"
   ]
  },
  {
   "cell_type": "code",
   "execution_count": 7,
   "metadata": {},
   "outputs": [
    {
     "name": "stdout",
     "output_type": "stream",
     "text": [
      "Qdrant initiation took 0.3645589351654053 seconds\n"
     ]
    }
   ],
   "source": [
    "start_time = time.time()\n",
    "\n",
    "client.create_collection(\n",
    "    collection_name='EO-Collection',\n",
    "    vectors_config=VectorParams(size = 1024, distance=Distance.COSINE)\n",
    ")\n",
    "\n",
    "qdrant_voyage = QdrantVectorStore(\n",
    "    client=client,\n",
    "    collection_name='EO-Collection',\n",
    "    embedding=voyage_embeddings\n",
    ")\n",
    "\n",
    "end_time = time.time()\n",
    "\n",
    "elapsed_qdrant_initiation = end_time - start_time\n",
    "print(f\"Qdrant initiation took {elapsed_qdrant_initiation} seconds\")"
   ]
  },
  {
   "cell_type": "code",
   "execution_count": 8,
   "metadata": {},
   "outputs": [],
   "source": [
    "# This text splitter is used to create the child documents\n",
    "child_splitter = RecursiveCharacterTextSplitter(chunk_size=600, separators=['\\n'])\n",
    "\n",
    "# The vectorstore to use to index the child chunks\n",
    "store = InMemoryStore()"
   ]
  },
  {
   "cell_type": "code",
   "execution_count": 9,
   "metadata": {},
   "outputs": [
    {
     "name": "stdout",
     "output_type": "stream",
     "text": [
      "Elapsed time for ParentDocumentRetriever Initialization: 0.0001010894775390625 seconds\n"
     ]
    }
   ],
   "source": [
    "start_time = time.time()\n",
    "\n",
    "retriever_qdrant_voyage = ParentDocumentRetriever(\n",
    "    vectorstore=qdrant_voyage,\n",
    "    docstore=store,\n",
    "    child_splitter=child_splitter\n",
    ")\n",
    "\n",
    "end_time = time.time()\n",
    "\n",
    "elapsed_parent_retriever = end_time - start_time\n",
    "print(f\"Elapsed time for ParentDocumentRetriever Initialization: {elapsed_parent_retriever} seconds\")"
   ]
  },
  {
   "cell_type": "code",
   "execution_count": 10,
   "metadata": {},
   "outputs": [
    {
     "name": "stdout",
     "output_type": "stream",
     "text": [
      "Elapsed time for Qdrant and Voyage Embeddings Indexing: 78.20874071121216 seconds\n"
     ]
    }
   ],
   "source": [
    "start_time = time.time()\n",
    "retriever_qdrant_voyage.add_documents(json_documents, ids=None)\n",
    "end_time = time.time()\n",
    "\n",
    "elapsed_qdrant_voyage_indexing = end_time - start_time\n",
    "\n",
    "print(f\"Elapsed time for Qdrant and Voyage Embeddings Indexing: {elapsed_qdrant_voyage_indexing} seconds\")"
   ]
  },
  {
   "cell_type": "code",
   "execution_count": 11,
   "metadata": {},
   "outputs": [
    {
     "name": "stdout",
     "output_type": "stream",
     "text": [
      "* [SIM=0.596351] [{'Title': 'Hiring Freeze', 'URL': 'https://www.whitehouse.gov/presidential-actions/2025/01/hiring-freeze/', 'DateSigned': 'January 20, 2025', 'doc_id': 'bd709913-4042-419b-91c6-a673a55a7b72', '_id': '94618e7ab10a4ed4a22991c6619d0e67', '_collection_name': 'EO-Collection'}]\n",
      "* [SIM=0.513083] [{'Title': 'Hiring Freeze', 'URL': 'https://www.whitehouse.gov/presidential-actions/2025/01/hiring-freeze/', 'DateSigned': 'January 20, 2025', 'doc_id': 'bd709913-4042-419b-91c6-a673a55a7b72', '_id': '2e23519ef5b141b5a17b329d9f917414', '_collection_name': 'EO-Collection'}]\n",
      "* [SIM=0.475389] [{'Title': 'Hiring Freeze', 'URL': 'https://www.whitehouse.gov/presidential-actions/2025/01/hiring-freeze/', 'DateSigned': 'January 20, 2025', 'doc_id': 'bd709913-4042-419b-91c6-a673a55a7b72', '_id': 'dec6ebc7a2f84eb1aa8d517da53d2c71', '_collection_name': 'EO-Collection'}]\n",
      "* [SIM=0.475304] [{'Title': 'Hiring Freeze', 'URL': 'https://www.whitehouse.gov/presidential-actions/2025/01/hiring-freeze/', 'DateSigned': 'January 20, 2025', 'doc_id': 'bd709913-4042-419b-91c6-a673a55a7b72', '_id': '7ff59c9f69ea4a6bbf43695cf3bbf1c2', '_collection_name': 'EO-Collection'}]\n",
      "* [SIM=0.441296] [{'Title': 'REFORMING THE FEDERAL HIRING PROCESS AND RESTORING MERIT TO GOVERNMENT SERVICE', 'URL': 'https://www.whitehouse.gov/presidential-actions/2025/01/reforming-the-federal-hiring-process-and-restoring-merit-to-government-service/', 'DateSigned': 'January 20, 2025', 'doc_id': '6a1cb941-63dd-4556-960c-64206baaad6a', '_id': '51a9e93ac71a4f8db5ffdd441a01711b', '_collection_name': 'EO-Collection'}]\n"
     ]
    }
   ],
   "source": [
    "sub_docs = qdrant_voyage.similarity_search_with_score(\n",
    "    \"Is there a hiring freeze?\",\n",
    "    k=5\n",
    ")\n",
    "\n",
    "# Similarity Score results\n",
    "for res, score in sub_docs:\n",
    "    print(f\"* [SIM={score:3f}] [{res.metadata}]\")\n"
   ]
  },
  {
   "cell_type": "code",
   "execution_count": 12,
   "metadata": {},
   "outputs": [
    {
     "name": "stdout",
     "output_type": "stream",
     "text": [
      "Available collections: collections=[CollectionDescription(name='EO-Collection')]\n"
     ]
    }
   ],
   "source": [
    "\n",
    "\n",
    "# Verify the collection exists\n",
    "collections = client.get_collections()\n",
    "print(\"Available collections:\", collections)"
   ]
  },
  {
   "cell_type": "code",
   "execution_count": null,
   "metadata": {},
   "outputs": [],
   "source": []
  }
 ],
 "metadata": {
  "kernelspec": {
   "display_name": "env",
   "language": "python",
   "name": "python3"
  },
  "language_info": {
   "codemirror_mode": {
    "name": "ipython",
    "version": 3
   },
   "file_extension": ".py",
   "mimetype": "text/x-python",
   "name": "python",
   "nbconvert_exporter": "python",
   "pygments_lexer": "ipython3",
   "version": "3.9.7"
  }
 },
 "nbformat": 4,
 "nbformat_minor": 2
}
